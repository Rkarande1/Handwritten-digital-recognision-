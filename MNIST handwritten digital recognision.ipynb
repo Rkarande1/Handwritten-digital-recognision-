{
 "cells": [
  {
   "cell_type": "code",
   "execution_count": 1,
   "id": "14db07dd",
   "metadata": {},
   "outputs": [],
   "source": [
    "import pandas as pd\n",
    "import numpy as np\n"
   ]
  },
  {
   "cell_type": "code",
   "execution_count": 2,
   "id": "c93ac620",
   "metadata": {},
   "outputs": [
    {
     "name": "stdout",
     "output_type": "stream",
     "text": [
      "2.13.0-rc1\n",
      "2.13.1rc0\n"
     ]
    }
   ],
   "source": [
    "import tensorflow\n",
    "import keras\n",
    "print(tensorflow.__version__)\n",
    "print(keras.__version__)"
   ]
  },
  {
   "cell_type": "code",
   "execution_count": 3,
   "id": "13aa972d",
   "metadata": {},
   "outputs": [],
   "source": [
    "import tensorflow as tf\n",
    "from tensorflow.keras.datasets import mnist\n"
   ]
  },
  {
   "cell_type": "code",
   "execution_count": 4,
   "id": "ebf0e2d9",
   "metadata": {},
   "outputs": [],
   "source": [
    "(x_train, y_train), (x_test, y_test) = mnist.load_data(path=\"mnist.npz\")"
   ]
  },
  {
   "cell_type": "code",
   "execution_count": 55,
   "id": "d2458adc",
   "metadata": {},
   "outputs": [
    {
     "data": {
      "text/plain": [
       "array([[[0, 0, 0, ..., 0, 0, 0],\n",
       "        [0, 0, 0, ..., 0, 0, 0],\n",
       "        [0, 0, 0, ..., 0, 0, 0],\n",
       "        ...,\n",
       "        [0, 0, 0, ..., 0, 0, 0],\n",
       "        [0, 0, 0, ..., 0, 0, 0],\n",
       "        [0, 0, 0, ..., 0, 0, 0]],\n",
       "\n",
       "       [[0, 0, 0, ..., 0, 0, 0],\n",
       "        [0, 0, 0, ..., 0, 0, 0],\n",
       "        [0, 0, 0, ..., 0, 0, 0],\n",
       "        ...,\n",
       "        [0, 0, 0, ..., 0, 0, 0],\n",
       "        [0, 0, 0, ..., 0, 0, 0],\n",
       "        [0, 0, 0, ..., 0, 0, 0]],\n",
       "\n",
       "       [[0, 0, 0, ..., 0, 0, 0],\n",
       "        [0, 0, 0, ..., 0, 0, 0],\n",
       "        [0, 0, 0, ..., 0, 0, 0],\n",
       "        ...,\n",
       "        [0, 0, 0, ..., 0, 0, 0],\n",
       "        [0, 0, 0, ..., 0, 0, 0],\n",
       "        [0, 0, 0, ..., 0, 0, 0]],\n",
       "\n",
       "       ...,\n",
       "\n",
       "       [[0, 0, 0, ..., 0, 0, 0],\n",
       "        [0, 0, 0, ..., 0, 0, 0],\n",
       "        [0, 0, 0, ..., 0, 0, 0],\n",
       "        ...,\n",
       "        [0, 0, 0, ..., 0, 0, 0],\n",
       "        [0, 0, 0, ..., 0, 0, 0],\n",
       "        [0, 0, 0, ..., 0, 0, 0]],\n",
       "\n",
       "       [[0, 0, 0, ..., 0, 0, 0],\n",
       "        [0, 0, 0, ..., 0, 0, 0],\n",
       "        [0, 0, 0, ..., 0, 0, 0],\n",
       "        ...,\n",
       "        [0, 0, 0, ..., 0, 0, 0],\n",
       "        [0, 0, 0, ..., 0, 0, 0],\n",
       "        [0, 0, 0, ..., 0, 0, 0]],\n",
       "\n",
       "       [[0, 0, 0, ..., 0, 0, 0],\n",
       "        [0, 0, 0, ..., 0, 0, 0],\n",
       "        [0, 0, 0, ..., 0, 0, 0],\n",
       "        ...,\n",
       "        [0, 0, 0, ..., 0, 0, 0],\n",
       "        [0, 0, 0, ..., 0, 0, 0],\n",
       "        [0, 0, 0, ..., 0, 0, 0]]], dtype=uint8)"
      ]
     },
     "execution_count": 55,
     "metadata": {},
     "output_type": "execute_result"
    }
   ],
   "source": [
    "x_train"
   ]
  },
  {
   "cell_type": "code",
   "execution_count": 56,
   "id": "3168bec7",
   "metadata": {},
   "outputs": [
    {
     "data": {
      "text/plain": [
       "(60000, 28, 28)"
      ]
     },
     "execution_count": 56,
     "metadata": {},
     "output_type": "execute_result"
    }
   ],
   "source": [
    "x_train.shape\n"
   ]
  },
  {
   "cell_type": "code",
   "execution_count": 57,
   "id": "c7b63681",
   "metadata": {},
   "outputs": [],
   "source": [
    "width,height=28,28"
   ]
  },
  {
   "cell_type": "code",
   "execution_count": 58,
   "id": "05d2a55d",
   "metadata": {},
   "outputs": [],
   "source": [
    "input_shape=(width,height,1)"
   ]
  },
  {
   "cell_type": "code",
   "execution_count": 59,
   "id": "f9869b2e",
   "metadata": {},
   "outputs": [
    {
     "data": {
      "text/plain": [
       "(28, 28, 1)"
      ]
     },
     "execution_count": 59,
     "metadata": {},
     "output_type": "execute_result"
    }
   ],
   "source": [
    "input_shape\n"
   ]
  },
  {
   "cell_type": "code",
   "execution_count": 60,
   "id": "e2fa71e7",
   "metadata": {},
   "outputs": [],
   "source": [
    "x_train=x_train.reshape(x_train.shape[0],width,height,1)\n",
    "x_test=x_test.reshape(x_test.shape[0],width,height,1)"
   ]
  },
  {
   "cell_type": "code",
   "execution_count": 61,
   "id": "9169f391",
   "metadata": {},
   "outputs": [
    {
     "data": {
      "text/plain": [
       "(60000, 28, 28, 1)"
      ]
     },
     "execution_count": 61,
     "metadata": {},
     "output_type": "execute_result"
    }
   ],
   "source": [
    "x_train.shape"
   ]
  },
  {
   "cell_type": "code",
   "execution_count": 62,
   "id": "fe0da3a9",
   "metadata": {},
   "outputs": [
    {
     "data": {
      "text/plain": [
       "(60000,)"
      ]
     },
     "execution_count": 62,
     "metadata": {},
     "output_type": "execute_result"
    }
   ],
   "source": [
    "y_train.shape"
   ]
  },
  {
   "cell_type": "code",
   "execution_count": 63,
   "id": "10f46d56",
   "metadata": {},
   "outputs": [],
   "source": [
    "from sklearn.model_selection import train_test_split\n",
    "x_train,x_val,y_train,y_val=train_test_split(x_train,y_train,test_size=0.1)"
   ]
  },
  {
   "cell_type": "code",
   "execution_count": 64,
   "id": "68d640c8",
   "metadata": {},
   "outputs": [
    {
     "data": {
      "text/plain": [
       "54000"
      ]
     },
     "execution_count": 64,
     "metadata": {},
     "output_type": "execute_result"
    }
   ],
   "source": [
    "len(x_train)"
   ]
  },
  {
   "cell_type": "code",
   "execution_count": 65,
   "id": "165ca2a2",
   "metadata": {},
   "outputs": [
    {
     "data": {
      "text/plain": [
       "6000"
      ]
     },
     "execution_count": 65,
     "metadata": {},
     "output_type": "execute_result"
    }
   ],
   "source": [
    "len(x_val)"
   ]
  },
  {
   "cell_type": "code",
   "execution_count": 66,
   "id": "5087c853",
   "metadata": {},
   "outputs": [],
   "source": [
    "x_train=(x_train-x_train.mean()) / x_train.std()\n",
    "x_test=(x_test-x_test.mean()) / x_test.std()\n",
    "x_val=(x_val-x_val.mean()) / x_val.std()"
   ]
  },
  {
   "cell_type": "code",
   "execution_count": 67,
   "id": "a0ee12a7",
   "metadata": {},
   "outputs": [
    {
     "data": {
      "text/plain": [
       "array([[[[-0.42409215],\n",
       "         [-0.42409215],\n",
       "         [-0.42409215],\n",
       "         ...,\n",
       "         [-0.42409215],\n",
       "         [-0.42409215],\n",
       "         [-0.42409215]],\n",
       "\n",
       "        [[-0.42409215],\n",
       "         [-0.42409215],\n",
       "         [-0.42409215],\n",
       "         ...,\n",
       "         [-0.42409215],\n",
       "         [-0.42409215],\n",
       "         [-0.42409215]],\n",
       "\n",
       "        [[-0.42409215],\n",
       "         [-0.42409215],\n",
       "         [-0.42409215],\n",
       "         ...,\n",
       "         [-0.42409215],\n",
       "         [-0.42409215],\n",
       "         [-0.42409215]],\n",
       "\n",
       "        ...,\n",
       "\n",
       "        [[-0.42409215],\n",
       "         [-0.42409215],\n",
       "         [-0.42409215],\n",
       "         ...,\n",
       "         [-0.42409215],\n",
       "         [-0.42409215],\n",
       "         [-0.42409215]],\n",
       "\n",
       "        [[-0.42409215],\n",
       "         [-0.42409215],\n",
       "         [-0.42409215],\n",
       "         ...,\n",
       "         [-0.42409215],\n",
       "         [-0.42409215],\n",
       "         [-0.42409215]],\n",
       "\n",
       "        [[-0.42409215],\n",
       "         [-0.42409215],\n",
       "         [-0.42409215],\n",
       "         ...,\n",
       "         [-0.42409215],\n",
       "         [-0.42409215],\n",
       "         [-0.42409215]]],\n",
       "\n",
       "\n",
       "       [[[-0.42409215],\n",
       "         [-0.42409215],\n",
       "         [-0.42409215],\n",
       "         ...,\n",
       "         [-0.42409215],\n",
       "         [-0.42409215],\n",
       "         [-0.42409215]],\n",
       "\n",
       "        [[-0.42409215],\n",
       "         [-0.42409215],\n",
       "         [-0.42409215],\n",
       "         ...,\n",
       "         [-0.42409215],\n",
       "         [-0.42409215],\n",
       "         [-0.42409215]],\n",
       "\n",
       "        [[-0.42409215],\n",
       "         [-0.42409215],\n",
       "         [-0.42409215],\n",
       "         ...,\n",
       "         [-0.42409215],\n",
       "         [-0.42409215],\n",
       "         [-0.42409215]],\n",
       "\n",
       "        ...,\n",
       "\n",
       "        [[-0.42409215],\n",
       "         [-0.42409215],\n",
       "         [-0.42409215],\n",
       "         ...,\n",
       "         [-0.42409215],\n",
       "         [-0.42409215],\n",
       "         [-0.42409215]],\n",
       "\n",
       "        [[-0.42409215],\n",
       "         [-0.42409215],\n",
       "         [-0.42409215],\n",
       "         ...,\n",
       "         [-0.42409215],\n",
       "         [-0.42409215],\n",
       "         [-0.42409215]],\n",
       "\n",
       "        [[-0.42409215],\n",
       "         [-0.42409215],\n",
       "         [-0.42409215],\n",
       "         ...,\n",
       "         [-0.42409215],\n",
       "         [-0.42409215],\n",
       "         [-0.42409215]]],\n",
       "\n",
       "\n",
       "       [[[-0.42409215],\n",
       "         [-0.42409215],\n",
       "         [-0.42409215],\n",
       "         ...,\n",
       "         [-0.42409215],\n",
       "         [-0.42409215],\n",
       "         [-0.42409215]],\n",
       "\n",
       "        [[-0.42409215],\n",
       "         [-0.42409215],\n",
       "         [-0.42409215],\n",
       "         ...,\n",
       "         [-0.42409215],\n",
       "         [-0.42409215],\n",
       "         [-0.42409215]],\n",
       "\n",
       "        [[-0.42409215],\n",
       "         [-0.42409215],\n",
       "         [-0.42409215],\n",
       "         ...,\n",
       "         [-0.42409215],\n",
       "         [-0.42409215],\n",
       "         [-0.42409215]],\n",
       "\n",
       "        ...,\n",
       "\n",
       "        [[-0.42409215],\n",
       "         [-0.42409215],\n",
       "         [-0.42409215],\n",
       "         ...,\n",
       "         [-0.42409215],\n",
       "         [-0.42409215],\n",
       "         [-0.42409215]],\n",
       "\n",
       "        [[-0.42409215],\n",
       "         [-0.42409215],\n",
       "         [-0.42409215],\n",
       "         ...,\n",
       "         [-0.42409215],\n",
       "         [-0.42409215],\n",
       "         [-0.42409215]],\n",
       "\n",
       "        [[-0.42409215],\n",
       "         [-0.42409215],\n",
       "         [-0.42409215],\n",
       "         ...,\n",
       "         [-0.42409215],\n",
       "         [-0.42409215],\n",
       "         [-0.42409215]]],\n",
       "\n",
       "\n",
       "       ...,\n",
       "\n",
       "\n",
       "       [[[-0.42409215],\n",
       "         [-0.42409215],\n",
       "         [-0.42409215],\n",
       "         ...,\n",
       "         [-0.42409215],\n",
       "         [-0.42409215],\n",
       "         [-0.42409215]],\n",
       "\n",
       "        [[-0.42409215],\n",
       "         [-0.42409215],\n",
       "         [-0.42409215],\n",
       "         ...,\n",
       "         [-0.42409215],\n",
       "         [-0.42409215],\n",
       "         [-0.42409215]],\n",
       "\n",
       "        [[-0.42409215],\n",
       "         [-0.42409215],\n",
       "         [-0.42409215],\n",
       "         ...,\n",
       "         [-0.42409215],\n",
       "         [-0.42409215],\n",
       "         [-0.42409215]],\n",
       "\n",
       "        ...,\n",
       "\n",
       "        [[-0.42409215],\n",
       "         [-0.42409215],\n",
       "         [-0.42409215],\n",
       "         ...,\n",
       "         [-0.42409215],\n",
       "         [-0.42409215],\n",
       "         [-0.42409215]],\n",
       "\n",
       "        [[-0.42409215],\n",
       "         [-0.42409215],\n",
       "         [-0.42409215],\n",
       "         ...,\n",
       "         [-0.42409215],\n",
       "         [-0.42409215],\n",
       "         [-0.42409215]],\n",
       "\n",
       "        [[-0.42409215],\n",
       "         [-0.42409215],\n",
       "         [-0.42409215],\n",
       "         ...,\n",
       "         [-0.42409215],\n",
       "         [-0.42409215],\n",
       "         [-0.42409215]]],\n",
       "\n",
       "\n",
       "       [[[-0.42409215],\n",
       "         [-0.42409215],\n",
       "         [-0.42409215],\n",
       "         ...,\n",
       "         [-0.42409215],\n",
       "         [-0.42409215],\n",
       "         [-0.42409215]],\n",
       "\n",
       "        [[-0.42409215],\n",
       "         [-0.42409215],\n",
       "         [-0.42409215],\n",
       "         ...,\n",
       "         [-0.42409215],\n",
       "         [-0.42409215],\n",
       "         [-0.42409215]],\n",
       "\n",
       "        [[-0.42409215],\n",
       "         [-0.42409215],\n",
       "         [-0.42409215],\n",
       "         ...,\n",
       "         [-0.42409215],\n",
       "         [-0.42409215],\n",
       "         [-0.42409215]],\n",
       "\n",
       "        ...,\n",
       "\n",
       "        [[-0.42409215],\n",
       "         [-0.42409215],\n",
       "         [-0.42409215],\n",
       "         ...,\n",
       "         [-0.42409215],\n",
       "         [-0.42409215],\n",
       "         [-0.42409215]],\n",
       "\n",
       "        [[-0.42409215],\n",
       "         [-0.42409215],\n",
       "         [-0.42409215],\n",
       "         ...,\n",
       "         [-0.42409215],\n",
       "         [-0.42409215],\n",
       "         [-0.42409215]],\n",
       "\n",
       "        [[-0.42409215],\n",
       "         [-0.42409215],\n",
       "         [-0.42409215],\n",
       "         ...,\n",
       "         [-0.42409215],\n",
       "         [-0.42409215],\n",
       "         [-0.42409215]]],\n",
       "\n",
       "\n",
       "       [[[-0.42409215],\n",
       "         [-0.42409215],\n",
       "         [-0.42409215],\n",
       "         ...,\n",
       "         [-0.42409215],\n",
       "         [-0.42409215],\n",
       "         [-0.42409215]],\n",
       "\n",
       "        [[-0.42409215],\n",
       "         [-0.42409215],\n",
       "         [-0.42409215],\n",
       "         ...,\n",
       "         [-0.42409215],\n",
       "         [-0.42409215],\n",
       "         [-0.42409215]],\n",
       "\n",
       "        [[-0.42409215],\n",
       "         [-0.42409215],\n",
       "         [-0.42409215],\n",
       "         ...,\n",
       "         [-0.42409215],\n",
       "         [-0.42409215],\n",
       "         [-0.42409215]],\n",
       "\n",
       "        ...,\n",
       "\n",
       "        [[-0.42409215],\n",
       "         [-0.42409215],\n",
       "         [-0.42409215],\n",
       "         ...,\n",
       "         [-0.42409215],\n",
       "         [-0.42409215],\n",
       "         [-0.42409215]],\n",
       "\n",
       "        [[-0.42409215],\n",
       "         [-0.42409215],\n",
       "         [-0.42409215],\n",
       "         ...,\n",
       "         [-0.42409215],\n",
       "         [-0.42409215],\n",
       "         [-0.42409215]],\n",
       "\n",
       "        [[-0.42409215],\n",
       "         [-0.42409215],\n",
       "         [-0.42409215],\n",
       "         ...,\n",
       "         [-0.42409215],\n",
       "         [-0.42409215],\n",
       "         [-0.42409215]]]])"
      ]
     },
     "execution_count": 67,
     "metadata": {},
     "output_type": "execute_result"
    }
   ],
   "source": [
    "x_train"
   ]
  },
  {
   "cell_type": "code",
   "execution_count": 68,
   "id": "c42cea8e",
   "metadata": {},
   "outputs": [],
   "source": [
    "num_labels=10\n",
    "from tensorflow import keras"
   ]
  },
  {
   "cell_type": "code",
   "execution_count": 69,
   "id": "4e7b4d7f",
   "metadata": {},
   "outputs": [],
   "source": [
    "y_train=keras.utils.to_categorical(y_train)"
   ]
  },
  {
   "cell_type": "code",
   "execution_count": 70,
   "id": "98845b2c",
   "metadata": {},
   "outputs": [],
   "source": [
    "y_test=keras.utils.to_categorical(y_test)\n",
    "y_val=keras.utils.to_categorical(y_val)"
   ]
  },
  {
   "cell_type": "code",
   "execution_count": 71,
   "id": "c2e57bf7",
   "metadata": {},
   "outputs": [
    {
     "data": {
      "text/plain": [
       "array([[0., 1., 0., ..., 0., 0., 0.],\n",
       "       [1., 0., 0., ..., 0., 0., 0.],\n",
       "       [0., 1., 0., ..., 0., 0., 0.],\n",
       "       ...,\n",
       "       [0., 0., 0., ..., 0., 0., 0.],\n",
       "       [1., 0., 0., ..., 0., 0., 0.],\n",
       "       [0., 0., 0., ..., 0., 0., 1.]], dtype=float32)"
      ]
     },
     "execution_count": 71,
     "metadata": {},
     "output_type": "execute_result"
    }
   ],
   "source": [
    "y_train"
   ]
  },
  {
   "cell_type": "code",
   "execution_count": 72,
   "id": "28e250d8",
   "metadata": {},
   "outputs": [],
   "source": [
    "#Model"
   ]
  },
  {
   "cell_type": "code",
   "execution_count": 73,
   "id": "8fb806bf",
   "metadata": {},
   "outputs": [],
   "source": [
    "from keras import layers\n"
   ]
  },
  {
   "cell_type": "code",
   "execution_count": 74,
   "id": "00b99dae",
   "metadata": {},
   "outputs": [],
   "source": [
    "from keras.models import Sequential\n"
   ]
  },
  {
   "cell_type": "code",
   "execution_count": 75,
   "id": "02baece1",
   "metadata": {},
   "outputs": [],
   "source": [
    "from tensorflow.keras.layers import Dense, Dropout, Flatten, Input, Conv2D, MaxPooling2D,AveragePooling2D"
   ]
  },
  {
   "cell_type": "code",
   "execution_count": 76,
   "id": "9d6de2a6",
   "metadata": {},
   "outputs": [],
   "source": [
    "#lenit architecture\n",
    "model=Sequential()\n",
    "model.add(Conv2D(6,kernel_size=(5,5),strides=(1,1),activation='tanh',input_shape=(28,28,1)))\n",
    "model.add(AveragePooling2D(pool_size=(2,2),strides=(1,1)))\n",
    "model.add(Conv2D(16,kernel_size=(5,5),strides=(1,1),activation='tanh'))\n",
    "model.add(AveragePooling2D(pool_size=(2,2),strides=(1,1)))\n",
    "model.add(Conv2D(120,kernel_size=(5,5),strides=(1,1),activation='tanh'))\n",
    "\n",
    "model.add(Flatten())\n",
    "model.add(Dense(84,activation='tanh'))\n",
    "model.add(Dense(num_labels,activation='softmax'))"
   ]
  },
  {
   "cell_type": "code",
   "execution_count": 77,
   "id": "6806f54a",
   "metadata": {},
   "outputs": [
    {
     "name": "stdout",
     "output_type": "stream",
     "text": [
      "Model: \"sequential_5\"\n",
      "_________________________________________________________________\n",
      " Layer (type)                Output Shape              Param #   \n",
      "=================================================================\n",
      " conv2d_11 (Conv2D)          (None, 24, 24, 6)         156       \n",
      "                                                                 \n",
      " average_pooling2d_6 (Avera  (None, 23, 23, 6)         0         \n",
      " gePooling2D)                                                    \n",
      "                                                                 \n",
      " conv2d_12 (Conv2D)          (None, 19, 19, 16)        2416      \n",
      "                                                                 \n",
      " average_pooling2d_7 (Avera  (None, 18, 18, 16)        0         \n",
      " gePooling2D)                                                    \n",
      "                                                                 \n",
      " conv2d_13 (Conv2D)          (None, 14, 14, 120)       48120     \n",
      "                                                                 \n",
      " flatten_3 (Flatten)         (None, 23520)             0         \n",
      "                                                                 \n",
      " dense_4 (Dense)             (None, 84)                1975764   \n",
      "                                                                 \n",
      " dense_5 (Dense)             (None, 10)                850       \n",
      "                                                                 \n",
      "=================================================================\n",
      "Total params: 2027306 (7.73 MB)\n",
      "Trainable params: 2027306 (7.73 MB)\n",
      "Non-trainable params: 0 (0.00 Byte)\n",
      "_________________________________________________________________\n"
     ]
    }
   ],
   "source": [
    "model.summary()"
   ]
  },
  {
   "cell_type": "code",
   "execution_count": 79,
   "id": "8d267a59",
   "metadata": {},
   "outputs": [],
   "source": [
    "model.compile(loss=keras.losses.categorical_crossentropy,optimizer='adam',metrics=['accuracy'])"
   ]
  },
  {
   "cell_type": "code",
   "execution_count": 84,
   "id": "73d94a5b",
   "metadata": {},
   "outputs": [
    {
     "name": "stdout",
     "output_type": "stream",
     "text": [
      "Epoch 1/20\n",
      "1688/1688 [==============================] - 38s 22ms/step - loss: 0.2955 - accuracy: 0.9121 - val_loss: 0.2101 - val_accuracy: 0.9382\n",
      "Epoch 2/20\n",
      "1688/1688 [==============================] - 37s 22ms/step - loss: 0.1939 - accuracy: 0.9411 - val_loss: 0.1920 - val_accuracy: 0.9420\n",
      "Epoch 3/20\n",
      "1688/1688 [==============================] - 37s 22ms/step - loss: 0.1720 - accuracy: 0.9471 - val_loss: 0.1665 - val_accuracy: 0.9507\n",
      "Epoch 4/20\n",
      "1688/1688 [==============================] - 37s 22ms/step - loss: 0.1529 - accuracy: 0.9538 - val_loss: 0.1607 - val_accuracy: 0.9510\n",
      "Epoch 5/20\n",
      "1688/1688 [==============================] - 38s 22ms/step - loss: 0.1515 - accuracy: 0.9535 - val_loss: 0.1619 - val_accuracy: 0.9505\n",
      "Epoch 6/20\n",
      "1688/1688 [==============================] - 37s 22ms/step - loss: 0.1437 - accuracy: 0.9553 - val_loss: 0.1356 - val_accuracy: 0.9580\n",
      "Epoch 7/20\n",
      "1688/1688 [==============================] - 37s 22ms/step - loss: 0.1288 - accuracy: 0.9608 - val_loss: 0.1478 - val_accuracy: 0.9558\n",
      "Epoch 8/20\n",
      "1688/1688 [==============================] - 37s 22ms/step - loss: 0.1253 - accuracy: 0.9615 - val_loss: 0.1258 - val_accuracy: 0.9620\n",
      "Epoch 9/20\n",
      "1688/1688 [==============================] - 38s 22ms/step - loss: 0.1270 - accuracy: 0.9610 - val_loss: 0.1751 - val_accuracy: 0.9498\n",
      "Epoch 10/20\n",
      "1688/1688 [==============================] - 37s 22ms/step - loss: 0.1185 - accuracy: 0.9637 - val_loss: 0.1360 - val_accuracy: 0.9633\n",
      "Epoch 11/20\n",
      "1688/1688 [==============================] - 37s 22ms/step - loss: 0.1175 - accuracy: 0.9647 - val_loss: 0.1377 - val_accuracy: 0.9572\n",
      "Epoch 12/20\n",
      "1688/1688 [==============================] - 37s 22ms/step - loss: 0.1176 - accuracy: 0.9638 - val_loss: 0.1499 - val_accuracy: 0.9540\n",
      "Epoch 13/20\n",
      "1688/1688 [==============================] - 38s 22ms/step - loss: 0.1191 - accuracy: 0.9634 - val_loss: 0.1416 - val_accuracy: 0.9600\n",
      "Epoch 14/20\n",
      "1688/1688 [==============================] - 38s 23ms/step - loss: 0.1154 - accuracy: 0.9646 - val_loss: 0.1175 - val_accuracy: 0.9645\n",
      "Epoch 15/20\n",
      "1688/1688 [==============================] - 38s 22ms/step - loss: 0.1126 - accuracy: 0.9656 - val_loss: 0.1229 - val_accuracy: 0.9647\n",
      "Epoch 16/20\n",
      "1688/1688 [==============================] - 38s 22ms/step - loss: 0.1125 - accuracy: 0.9649 - val_loss: 0.1697 - val_accuracy: 0.9490\n",
      "Epoch 17/20\n",
      "1688/1688 [==============================] - 38s 22ms/step - loss: 0.1088 - accuracy: 0.9659 - val_loss: 0.1314 - val_accuracy: 0.9618\n",
      "Epoch 18/20\n",
      "1688/1688 [==============================] - 38s 22ms/step - loss: 0.1042 - accuracy: 0.9682 - val_loss: 0.1237 - val_accuracy: 0.9647\n",
      "Epoch 19/20\n",
      "1688/1688 [==============================] - 38s 23ms/step - loss: 0.1099 - accuracy: 0.9662 - val_loss: 0.1235 - val_accuracy: 0.9635\n",
      "Epoch 20/20\n",
      "1688/1688 [==============================] - 37s 22ms/step - loss: 0.1029 - accuracy: 0.9679 - val_loss: 0.1206 - val_accuracy: 0.9622\n"
     ]
    }
   ],
   "source": [
    "history=model.fit(x_train,y_train,batch_size=32,epochs=20,verbose=1, validation_data = (x_val,y_val))"
   ]
  },
  {
   "cell_type": "code",
   "execution_count": 85,
   "id": "a3b8f446",
   "metadata": {},
   "outputs": [
    {
     "name": "stdout",
     "output_type": "stream",
     "text": [
      "313/313 [==============================] - 1s 4ms/step - loss: 0.1001 - accuracy: 0.9681\n"
     ]
    }
   ],
   "source": [
    "score=model.evaluate(x_test,y_test,verbose=1)"
   ]
  },
  {
   "cell_type": "code",
   "execution_count": 86,
   "id": "b89d523e",
   "metadata": {},
   "outputs": [
    {
     "data": {
      "text/plain": [
       "[0.10014894604682922, 0.9681000113487244]"
      ]
     },
     "execution_count": 86,
     "metadata": {},
     "output_type": "execute_result"
    }
   ],
   "source": [
    "score"
   ]
  },
  {
   "cell_type": "code",
   "execution_count": null,
   "id": "103b129c",
   "metadata": {},
   "outputs": [],
   "source": []
  }
 ],
 "metadata": {
  "kernelspec": {
   "display_name": "Python 3 (ipykernel)",
   "language": "python",
   "name": "python3"
  },
  "language_info": {
   "codemirror_mode": {
    "name": "ipython",
    "version": 3
   },
   "file_extension": ".py",
   "mimetype": "text/x-python",
   "name": "python",
   "nbconvert_exporter": "python",
   "pygments_lexer": "ipython3",
   "version": "3.10.9"
  }
 },
 "nbformat": 4,
 "nbformat_minor": 5
}
